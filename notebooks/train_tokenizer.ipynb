{
 "cells": [
  {
   "cell_type": "code",
   "execution_count": 1,
   "id": "fea033bb",
   "metadata": {},
   "outputs": [
    {
     "name": "stdout",
     "output_type": "stream",
     "text": [
      "✅ Found 4 files. Training tokenizer one file at a time...\n",
      "\n",
      "\n",
      "🔹 Training on file 1/4: split_1.csv\n",
      "✅ Done with file 1/4\n",
      "\n",
      "🔹 Training on file 2/4: split_2.csv\n",
      "✅ Done with file 2/4\n",
      "\n",
      "🔹 Training on file 3/4: split_3.csv\n",
      "✅ Done with file 3/4\n",
      "\n",
      "🔹 Training on file 4/4: split_4.csv\n",
      "✅ Done with file 4/4\n",
      "\n",
      "✅ Tokenizer training complete in 2010.13 seconds.\n",
      "📂 Saved to: tokenizer_gpt2_custom\n"
     ]
    }
   ],
   "source": [
    "from tokenizers import ByteLevelBPETokenizer\n",
    "import os\n",
    "import time\n",
    "\n",
    "# === Setup paths ===\n",
    "data_dir = \"split_files\"\n",
    "all_files = sorted([os.path.join(data_dir, f) for f in os.listdir(data_dir) if f.endswith(\".csv\")])\n",
    "files = all_files[:4]  # First 4 files only\n",
    "\n",
    "print(f\"✅ Found {len(files)} files. Training tokenizer one file at a time...\\n\")\n",
    "\n",
    "# === Initialize tokenizer once ===\n",
    "tokenizer = ByteLevelBPETokenizer()\n",
    "\n",
    "# === Train on each file one-by-one ===\n",
    "start = time.time()\n",
    "for i, file in enumerate(files):\n",
    "    print(f\"\\n🔹 Training on file {i+1}/{len(files)}: {os.path.basename(file)}\")\n",
    "    tokenizer.train(\n",
    "        files=[file],\n",
    "        vocab_size=30000,\n",
    "        min_frequency=2,\n",
    "        special_tokens=[\"<s>\", \"<pad>\", \"</s>\", \"<unk>\", \"<mask>\"]\n",
    "    )\n",
    "    print(f\"✅ Done with file {i+1}/{len(files)}\")\n",
    "\n",
    "# === Save tokenizer ===\n",
    "output_dir = \"tokenizer_gpt2_custom\"\n",
    "os.makedirs(output_dir, exist_ok=True)\n",
    "tokenizer.save_model(output_dir)\n",
    "\n",
    "end = time.time()\n",
    "print(f\"\\n✅ Tokenizer training complete in {round(end - start, 2)} seconds.\")\n",
    "print(f\"📂 Saved to: {output_dir}\")\n"
   ]
  },
  {
   "cell_type": "code",
   "execution_count": 4,
   "id": "79b8fb7b",
   "metadata": {},
   "outputs": [
    {
     "name": "stdout",
     "output_type": "stream",
     "text": [
      "✅ Hugging Face-compatible tokenizer saved!\n"
     ]
    }
   ],
   "source": [
    "from transformers import GPT2TokenizerFast\n",
    "\n",
    "tokenizer = GPT2TokenizerFast(\n",
    "    vocab_file=\"tokenizer_gpt2_custom/vocab.json\",\n",
    "    merges_file=\"tokenizer_gpt2_custom/merges.txt\",\n",
    "    unk_token=\"<unk>\",\n",
    "    pad_token=\"<pad>\",\n",
    "    bos_token=\"<s>\",\n",
    "    eos_token=\"</s>\",\n",
    ")\n",
    "\n",
    "tokenizer.save_pretrained(\"tokenizer_gpt2_custom\")\n",
    "print(\"✅ Hugging Face-compatible tokenizer saved!\")\n"
   ]
  }
 ],
 "metadata": {
  "kernelspec": {
   "display_name": "Python 3",
   "language": "python",
   "name": "python3"
  },
  "language_info": {
   "codemirror_mode": {
    "name": "ipython",
    "version": 3
   },
   "file_extension": ".py",
   "mimetype": "text/x-python",
   "name": "python",
   "nbconvert_exporter": "python",
   "pygments_lexer": "ipython3",
   "version": "3.11.9"
  }
 },
 "nbformat": 4,
 "nbformat_minor": 5
}
